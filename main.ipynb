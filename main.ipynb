{
 "cells": [
  {
   "cell_type": "code",
   "execution_count": 88,
   "metadata": {
    "collapsed": true,
    "pycharm": {
     "name": "#%%\n"
    }
   },
   "outputs": [],
   "source": [
    "# Data source:\n",
    "# https://www.kaggle.com/smeschke/four-shapes"
   ]
  },
  {
   "cell_type": "code",
   "execution_count": 89,
   "outputs": [
    {
     "name": "stdout",
     "output_type": "stream",
     "text": [
      "Libs Loaded\n"
     ]
    }
   ],
   "source": [
    "import os\n",
    "import cv2\n",
    "import matplotlib.pyplot as plt, numpy as np, seaborn as sns\n",
    "%matplotlib inline\n",
    "from random import randint\n",
    "from sklearn.model_selection import train_test_split\n",
    "from sklearn.linear_model import Perceptron\n",
    "print(\"Libs Loaded\")"
   ],
   "metadata": {
    "collapsed": false,
    "pycharm": {
     "name": "#%%\n"
    }
   }
  },
  {
   "cell_type": "code",
   "execution_count": 90,
   "outputs": [],
   "source": [
    "# PATH = r'C:/Users/szymo/PycharmProjects/shapeRecognition/shapes' # dataset file path\n",
    "# IMG_SIZE = 64 # every shape image is in resolution 64x64\n",
    "# shapes = [\"circle\", \"square\", \"triangle\", \"star\"] # all tipes of shapes\n",
    "# labels = [] # 0-circle, 1-square, 2-triangle, 3-star\n",
    "# dataset = [] # description for single image\n",
    "\n",
    "PATH = r'C:\\Users\\szymo\\PycharmProjects\\shapeRecognition\\shapes'\n",
    "IMG_SIZE = 64\n",
    "shapes = [\"circle\", \"square\", \"triangle\", \"star\"]\n",
    "labels = []\n",
    "dataset = []"
   ],
   "metadata": {
    "collapsed": false,
    "pycharm": {
     "name": "#%%\n"
    }
   }
  },
  {
   "cell_type": "code",
   "execution_count": 91,
   "outputs": [
    {
     "name": "stdout",
     "output_type": "stream",
     "text": [
      "Getting data for:  circle\n",
      "Getting data for:  square\n",
      "Getting data for:  triangle\n",
      "Getting data for:  star\n",
      "Dataset loaded to model directory.\n"
     ]
    }
   ],
   "source": [
    "# From kernel: https://www.kaggle.com/smeschke/load-data\n",
    "for shape in shapes:\n",
    "    print(\"Getting data for: \", shape)\n",
    "    #iterate through each file in the folder\n",
    "    dirs = os.listdir(PATH + \"\\\\\" + shape)\n",
    "    for file in dirs:\n",
    "        #add the image to the list of images\n",
    "        final_path = PATH + \"\\\\\" + shape + \"\\\\\" + file\n",
    "        image = cv2.imread(final_path)\n",
    "        if image is None:\n",
    "            print('Wrong path: ', final_path)\n",
    "            break\n",
    "        image = cv2.resize(image, (IMG_SIZE, IMG_SIZE))\n",
    "        image = image.reshape(12288)\n",
    "        dataset.append(image)\n",
    "        labels.append(shapes.index(shape))\n",
    "print(\"Dataset loaded to model directory.\")"
   ],
   "metadata": {
    "collapsed": false,
    "pycharm": {
     "name": "#%%\n"
    }
   }
  },
  {
   "cell_type": "code",
   "execution_count": 91,
   "outputs": [],
   "source": [],
   "metadata": {
    "collapsed": false,
    "pycharm": {
     "name": "#%%\n"
    }
   }
  },
  {
   "cell_type": "code",
   "execution_count": 91,
   "outputs": [],
   "source": [],
   "metadata": {
    "collapsed": false,
    "pycharm": {
     "name": "#%%\n"
    }
   }
  }
 ],
 "metadata": {
  "kernelspec": {
   "display_name": "Python 3",
   "language": "python",
   "name": "python3"
  },
  "language_info": {
   "codemirror_mode": {
    "name": "ipython",
    "version": 2
   },
   "file_extension": ".py",
   "mimetype": "text/x-python",
   "name": "python",
   "nbconvert_exporter": "python",
   "pygments_lexer": "ipython2",
   "version": "2.7.6"
  }
 },
 "nbformat": 4,
 "nbformat_minor": 0
}