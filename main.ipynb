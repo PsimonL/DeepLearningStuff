{
 "cells": [
  {
   "cell_type": "code",
   "execution_count": 13,
   "metadata": {
    "collapsed": true,
    "pycharm": {
     "name": "#%%\n"
    }
   },
   "outputs": [
    {
     "name": "stdout",
     "output_type": "stream",
     "text": [
      "Libs loaded succesfully \n"
     ]
    }
   ],
   "source": [
    "import numpy as np\n",
    "import matplotlib.pyplot as plt\n",
    "import pandas as pd\n",
    "from sklearn.model_selection import train_test_split\n",
    "#%matplotlib inline\n",
    "print(\"Libs loaded succesfully \")"
   ]
  },
  {
   "cell_type": "code",
   "execution_count": 14,
   "outputs": [
    {
     "name": "stdout",
     "output_type": "stream",
     "text": [
      "Adaptive Linear Neuron - Adaline loaded\n"
     ]
    }
   ],
   "source": [
    "# Rosenblat to Adaline model\n",
    "class Perceptron:\n",
    "    def __init__(self, eta=0.10, epochs=50, is_verbose = False): #(learning_speed, number of epochs, feedback_from_neuron)\n",
    "        self.eta = eta\n",
    "        self.epochs = epochs\n",
    "        self.is_verbose = is_verbose\n",
    "        self.list_of_errors = []\n",
    "\n",
    "    def get_activation(self, x):\n",
    "        activation = np.dot(x, self.w)\n",
    "        return activation\n",
    "\n",
    "    def predict(self, x): # value prediction\n",
    "        ones = np.ones((x.shape[0],1))\n",
    "        x_1 = np.append(x.copy(), ones, axis=1)\n",
    "        #y_pred = np.where(activation >0, 1, -1) ROSENBLAT\n",
    "        #return y_pred\n",
    "        return np.where(self.get_activation(x_1) > 0, 1, -1)\n",
    "\n",
    "    # mathematical matrix operations\n",
    "    def fit(self, X, y): # neuron learning, y - target value/etiquette/label, X - dataset of traits (columns) and observations (rows)\n",
    "        self.list_of_errors = []\n",
    "        ones = np.ones((X.shape[0], 1)) # Z = sum(W * X)\n",
    "        X_1 = np.append(X.copy(), ones, axis=1)\n",
    "\n",
    "        self.w = np.random.rand(X_1.shape[1]) # 1st step to randomize weights\n",
    "\n",
    "        for num in range(self.epochs): # epochs times\n",
    "            error = 0\n",
    "            activation = self.get_activation(X_1) # linear stimulation of neuron, tarining set\n",
    "            delta_w = self.eta * np.dot((y - activation), X_1) #dw = eta * (ytarget - ypred) * x getting vector, correcting weights vector\n",
    "            self.w += delta_w # dw = w* + w\n",
    "\n",
    "            error = np.square(y - activation).sum()/2.0\n",
    "            self.list_of_errors.append(error)\n",
    "            if(self.is_verbose):\n",
    "                print(\"Epoch: {}, weights: {}, error {}\".format(\n",
    "                        num, self.w, error))\n",
    "print(\"Adaptive Linear Neuron - Adaline loaded\")\n",
    "# https://sebastianraschka.com/faq/docs/diff-perceptron-adaline-neuralnet.html"
   ],
   "metadata": {
    "collapsed": false,
    "pycharm": {
     "name": "#%%\n"
    }
   }
  },
  {
   "cell_type": "code",
   "execution_count": 15,
   "outputs": [
    {
     "data": {
      "text/plain": "           id diagnosis  radius_mean  texture_mean  perimeter_mean  area_mean  \\\n0      842302         M        17.99         10.38          122.80     1001.0   \n1      842517         M        20.57         17.77          132.90     1326.0   \n2    84300903         M        19.69         21.25          130.00     1203.0   \n3    84348301         M        11.42         20.38           77.58      386.1   \n4    84358402         M        20.29         14.34          135.10     1297.0   \n..        ...       ...          ...           ...             ...        ...   \n564    926424         M        21.56         22.39          142.00     1479.0   \n565    926682         M        20.13         28.25          131.20     1261.0   \n566    926954         M        16.60         28.08          108.30      858.1   \n567    927241         M        20.60         29.33          140.10     1265.0   \n568     92751         B         7.76         24.54           47.92      181.0   \n\n     smoothness_mean  compactness_mean  concavity_mean  concave points_mean  \\\n0            0.11840           0.27760         0.30010              0.14710   \n1            0.08474           0.07864         0.08690              0.07017   \n2            0.10960           0.15990         0.19740              0.12790   \n3            0.14250           0.28390         0.24140              0.10520   \n4            0.10030           0.13280         0.19800              0.10430   \n..               ...               ...             ...                  ...   \n564          0.11100           0.11590         0.24390              0.13890   \n565          0.09780           0.10340         0.14400              0.09791   \n566          0.08455           0.10230         0.09251              0.05302   \n567          0.11780           0.27700         0.35140              0.15200   \n568          0.05263           0.04362         0.00000              0.00000   \n\n     ...  texture_worst  perimeter_worst  area_worst  smoothness_worst  \\\n0    ...          17.33           184.60      2019.0           0.16220   \n1    ...          23.41           158.80      1956.0           0.12380   \n2    ...          25.53           152.50      1709.0           0.14440   \n3    ...          26.50            98.87       567.7           0.20980   \n4    ...          16.67           152.20      1575.0           0.13740   \n..   ...            ...              ...         ...               ...   \n564  ...          26.40           166.10      2027.0           0.14100   \n565  ...          38.25           155.00      1731.0           0.11660   \n566  ...          34.12           126.70      1124.0           0.11390   \n567  ...          39.42           184.60      1821.0           0.16500   \n568  ...          30.37            59.16       268.6           0.08996   \n\n     compactness_worst  concavity_worst  concave points_worst  symmetry_worst  \\\n0              0.66560           0.7119                0.2654          0.4601   \n1              0.18660           0.2416                0.1860          0.2750   \n2              0.42450           0.4504                0.2430          0.3613   \n3              0.86630           0.6869                0.2575          0.6638   \n4              0.20500           0.4000                0.1625          0.2364   \n..                 ...              ...                   ...             ...   \n564            0.21130           0.4107                0.2216          0.2060   \n565            0.19220           0.3215                0.1628          0.2572   \n566            0.30940           0.3403                0.1418          0.2218   \n567            0.86810           0.9387                0.2650          0.4087   \n568            0.06444           0.0000                0.0000          0.2871   \n\n     fractal_dimension_worst  Unnamed: 32  \n0                    0.11890          NaN  \n1                    0.08902          NaN  \n2                    0.08758          NaN  \n3                    0.17300          NaN  \n4                    0.07678          NaN  \n..                       ...          ...  \n564                  0.07115          NaN  \n565                  0.06637          NaN  \n566                  0.07820          NaN  \n567                  0.12400          NaN  \n568                  0.07039          NaN  \n\n[569 rows x 33 columns]",
      "text/html": "<div>\n<style scoped>\n    .dataframe tbody tr th:only-of-type {\n        vertical-align: middle;\n    }\n\n    .dataframe tbody tr th {\n        vertical-align: top;\n    }\n\n    .dataframe thead th {\n        text-align: right;\n    }\n</style>\n<table border=\"1\" class=\"dataframe\">\n  <thead>\n    <tr style=\"text-align: right;\">\n      <th></th>\n      <th>id</th>\n      <th>diagnosis</th>\n      <th>radius_mean</th>\n      <th>texture_mean</th>\n      <th>perimeter_mean</th>\n      <th>area_mean</th>\n      <th>smoothness_mean</th>\n      <th>compactness_mean</th>\n      <th>concavity_mean</th>\n      <th>concave points_mean</th>\n      <th>...</th>\n      <th>texture_worst</th>\n      <th>perimeter_worst</th>\n      <th>area_worst</th>\n      <th>smoothness_worst</th>\n      <th>compactness_worst</th>\n      <th>concavity_worst</th>\n      <th>concave points_worst</th>\n      <th>symmetry_worst</th>\n      <th>fractal_dimension_worst</th>\n      <th>Unnamed: 32</th>\n    </tr>\n  </thead>\n  <tbody>\n    <tr>\n      <th>0</th>\n      <td>842302</td>\n      <td>M</td>\n      <td>17.99</td>\n      <td>10.38</td>\n      <td>122.80</td>\n      <td>1001.0</td>\n      <td>0.11840</td>\n      <td>0.27760</td>\n      <td>0.30010</td>\n      <td>0.14710</td>\n      <td>...</td>\n      <td>17.33</td>\n      <td>184.60</td>\n      <td>2019.0</td>\n      <td>0.16220</td>\n      <td>0.66560</td>\n      <td>0.7119</td>\n      <td>0.2654</td>\n      <td>0.4601</td>\n      <td>0.11890</td>\n      <td>NaN</td>\n    </tr>\n    <tr>\n      <th>1</th>\n      <td>842517</td>\n      <td>M</td>\n      <td>20.57</td>\n      <td>17.77</td>\n      <td>132.90</td>\n      <td>1326.0</td>\n      <td>0.08474</td>\n      <td>0.07864</td>\n      <td>0.08690</td>\n      <td>0.07017</td>\n      <td>...</td>\n      <td>23.41</td>\n      <td>158.80</td>\n      <td>1956.0</td>\n      <td>0.12380</td>\n      <td>0.18660</td>\n      <td>0.2416</td>\n      <td>0.1860</td>\n      <td>0.2750</td>\n      <td>0.08902</td>\n      <td>NaN</td>\n    </tr>\n    <tr>\n      <th>2</th>\n      <td>84300903</td>\n      <td>M</td>\n      <td>19.69</td>\n      <td>21.25</td>\n      <td>130.00</td>\n      <td>1203.0</td>\n      <td>0.10960</td>\n      <td>0.15990</td>\n      <td>0.19740</td>\n      <td>0.12790</td>\n      <td>...</td>\n      <td>25.53</td>\n      <td>152.50</td>\n      <td>1709.0</td>\n      <td>0.14440</td>\n      <td>0.42450</td>\n      <td>0.4504</td>\n      <td>0.2430</td>\n      <td>0.3613</td>\n      <td>0.08758</td>\n      <td>NaN</td>\n    </tr>\n    <tr>\n      <th>3</th>\n      <td>84348301</td>\n      <td>M</td>\n      <td>11.42</td>\n      <td>20.38</td>\n      <td>77.58</td>\n      <td>386.1</td>\n      <td>0.14250</td>\n      <td>0.28390</td>\n      <td>0.24140</td>\n      <td>0.10520</td>\n      <td>...</td>\n      <td>26.50</td>\n      <td>98.87</td>\n      <td>567.7</td>\n      <td>0.20980</td>\n      <td>0.86630</td>\n      <td>0.6869</td>\n      <td>0.2575</td>\n      <td>0.6638</td>\n      <td>0.17300</td>\n      <td>NaN</td>\n    </tr>\n    <tr>\n      <th>4</th>\n      <td>84358402</td>\n      <td>M</td>\n      <td>20.29</td>\n      <td>14.34</td>\n      <td>135.10</td>\n      <td>1297.0</td>\n      <td>0.10030</td>\n      <td>0.13280</td>\n      <td>0.19800</td>\n      <td>0.10430</td>\n      <td>...</td>\n      <td>16.67</td>\n      <td>152.20</td>\n      <td>1575.0</td>\n      <td>0.13740</td>\n      <td>0.20500</td>\n      <td>0.4000</td>\n      <td>0.1625</td>\n      <td>0.2364</td>\n      <td>0.07678</td>\n      <td>NaN</td>\n    </tr>\n    <tr>\n      <th>...</th>\n      <td>...</td>\n      <td>...</td>\n      <td>...</td>\n      <td>...</td>\n      <td>...</td>\n      <td>...</td>\n      <td>...</td>\n      <td>...</td>\n      <td>...</td>\n      <td>...</td>\n      <td>...</td>\n      <td>...</td>\n      <td>...</td>\n      <td>...</td>\n      <td>...</td>\n      <td>...</td>\n      <td>...</td>\n      <td>...</td>\n      <td>...</td>\n      <td>...</td>\n      <td>...</td>\n    </tr>\n    <tr>\n      <th>564</th>\n      <td>926424</td>\n      <td>M</td>\n      <td>21.56</td>\n      <td>22.39</td>\n      <td>142.00</td>\n      <td>1479.0</td>\n      <td>0.11100</td>\n      <td>0.11590</td>\n      <td>0.24390</td>\n      <td>0.13890</td>\n      <td>...</td>\n      <td>26.40</td>\n      <td>166.10</td>\n      <td>2027.0</td>\n      <td>0.14100</td>\n      <td>0.21130</td>\n      <td>0.4107</td>\n      <td>0.2216</td>\n      <td>0.2060</td>\n      <td>0.07115</td>\n      <td>NaN</td>\n    </tr>\n    <tr>\n      <th>565</th>\n      <td>926682</td>\n      <td>M</td>\n      <td>20.13</td>\n      <td>28.25</td>\n      <td>131.20</td>\n      <td>1261.0</td>\n      <td>0.09780</td>\n      <td>0.10340</td>\n      <td>0.14400</td>\n      <td>0.09791</td>\n      <td>...</td>\n      <td>38.25</td>\n      <td>155.00</td>\n      <td>1731.0</td>\n      <td>0.11660</td>\n      <td>0.19220</td>\n      <td>0.3215</td>\n      <td>0.1628</td>\n      <td>0.2572</td>\n      <td>0.06637</td>\n      <td>NaN</td>\n    </tr>\n    <tr>\n      <th>566</th>\n      <td>926954</td>\n      <td>M</td>\n      <td>16.60</td>\n      <td>28.08</td>\n      <td>108.30</td>\n      <td>858.1</td>\n      <td>0.08455</td>\n      <td>0.10230</td>\n      <td>0.09251</td>\n      <td>0.05302</td>\n      <td>...</td>\n      <td>34.12</td>\n      <td>126.70</td>\n      <td>1124.0</td>\n      <td>0.11390</td>\n      <td>0.30940</td>\n      <td>0.3403</td>\n      <td>0.1418</td>\n      <td>0.2218</td>\n      <td>0.07820</td>\n      <td>NaN</td>\n    </tr>\n    <tr>\n      <th>567</th>\n      <td>927241</td>\n      <td>M</td>\n      <td>20.60</td>\n      <td>29.33</td>\n      <td>140.10</td>\n      <td>1265.0</td>\n      <td>0.11780</td>\n      <td>0.27700</td>\n      <td>0.35140</td>\n      <td>0.15200</td>\n      <td>...</td>\n      <td>39.42</td>\n      <td>184.60</td>\n      <td>1821.0</td>\n      <td>0.16500</td>\n      <td>0.86810</td>\n      <td>0.9387</td>\n      <td>0.2650</td>\n      <td>0.4087</td>\n      <td>0.12400</td>\n      <td>NaN</td>\n    </tr>\n    <tr>\n      <th>568</th>\n      <td>92751</td>\n      <td>B</td>\n      <td>7.76</td>\n      <td>24.54</td>\n      <td>47.92</td>\n      <td>181.0</td>\n      <td>0.05263</td>\n      <td>0.04362</td>\n      <td>0.00000</td>\n      <td>0.00000</td>\n      <td>...</td>\n      <td>30.37</td>\n      <td>59.16</td>\n      <td>268.6</td>\n      <td>0.08996</td>\n      <td>0.06444</td>\n      <td>0.0000</td>\n      <td>0.0000</td>\n      <td>0.2871</td>\n      <td>0.07039</td>\n      <td>NaN</td>\n    </tr>\n  </tbody>\n</table>\n<p>569 rows × 33 columns</p>\n</div>"
     },
     "execution_count": 15,
     "metadata": {},
     "output_type": "execute_result"
    }
   ],
   "source": [
    "# Data source: https://archive.ics.uci.edu/ml/datasets/Breast+Cancer+Wisconsin+%28Diagnostic%29\n",
    "diag = pd.read_csv('breast_cancer.csv')\n",
    "diag"
   ],
   "metadata": {
    "collapsed": false,
    "pycharm": {
     "name": "#%%\n"
    }
   }
  },
  {
   "cell_type": "code",
   "execution_count": 16,
   "outputs": [
    {
     "data": {
      "text/plain": "     area_mean  area_se  texture_mean  concavity_worst  concavity_mean\n0       1001.0   153.40         10.38           0.7119         0.30010\n1       1326.0    74.08         17.77           0.2416         0.08690\n2       1203.0    94.03         21.25           0.4504         0.19740\n3        386.1    27.23         20.38           0.6869         0.24140\n4       1297.0    94.44         14.34           0.4000         0.19800\n..         ...      ...           ...              ...             ...\n564     1479.0   158.70         22.39           0.4107         0.24390\n565     1261.0    99.04         28.25           0.3215         0.14400\n566      858.1    48.55         28.08           0.3403         0.09251\n567     1265.0    86.22         29.33           0.9387         0.35140\n568      181.0    19.15         24.54           0.0000         0.00000\n\n[569 rows x 5 columns]",
      "text/html": "<div>\n<style scoped>\n    .dataframe tbody tr th:only-of-type {\n        vertical-align: middle;\n    }\n\n    .dataframe tbody tr th {\n        vertical-align: top;\n    }\n\n    .dataframe thead th {\n        text-align: right;\n    }\n</style>\n<table border=\"1\" class=\"dataframe\">\n  <thead>\n    <tr style=\"text-align: right;\">\n      <th></th>\n      <th>area_mean</th>\n      <th>area_se</th>\n      <th>texture_mean</th>\n      <th>concavity_worst</th>\n      <th>concavity_mean</th>\n    </tr>\n  </thead>\n  <tbody>\n    <tr>\n      <th>0</th>\n      <td>1001.0</td>\n      <td>153.40</td>\n      <td>10.38</td>\n      <td>0.7119</td>\n      <td>0.30010</td>\n    </tr>\n    <tr>\n      <th>1</th>\n      <td>1326.0</td>\n      <td>74.08</td>\n      <td>17.77</td>\n      <td>0.2416</td>\n      <td>0.08690</td>\n    </tr>\n    <tr>\n      <th>2</th>\n      <td>1203.0</td>\n      <td>94.03</td>\n      <td>21.25</td>\n      <td>0.4504</td>\n      <td>0.19740</td>\n    </tr>\n    <tr>\n      <th>3</th>\n      <td>386.1</td>\n      <td>27.23</td>\n      <td>20.38</td>\n      <td>0.6869</td>\n      <td>0.24140</td>\n    </tr>\n    <tr>\n      <th>4</th>\n      <td>1297.0</td>\n      <td>94.44</td>\n      <td>14.34</td>\n      <td>0.4000</td>\n      <td>0.19800</td>\n    </tr>\n    <tr>\n      <th>...</th>\n      <td>...</td>\n      <td>...</td>\n      <td>...</td>\n      <td>...</td>\n      <td>...</td>\n    </tr>\n    <tr>\n      <th>564</th>\n      <td>1479.0</td>\n      <td>158.70</td>\n      <td>22.39</td>\n      <td>0.4107</td>\n      <td>0.24390</td>\n    </tr>\n    <tr>\n      <th>565</th>\n      <td>1261.0</td>\n      <td>99.04</td>\n      <td>28.25</td>\n      <td>0.3215</td>\n      <td>0.14400</td>\n    </tr>\n    <tr>\n      <th>566</th>\n      <td>858.1</td>\n      <td>48.55</td>\n      <td>28.08</td>\n      <td>0.3403</td>\n      <td>0.09251</td>\n    </tr>\n    <tr>\n      <th>567</th>\n      <td>1265.0</td>\n      <td>86.22</td>\n      <td>29.33</td>\n      <td>0.9387</td>\n      <td>0.35140</td>\n    </tr>\n    <tr>\n      <th>568</th>\n      <td>181.0</td>\n      <td>19.15</td>\n      <td>24.54</td>\n      <td>0.0000</td>\n      <td>0.00000</td>\n    </tr>\n  </tbody>\n</table>\n<p>569 rows × 5 columns</p>\n</div>"
     },
     "execution_count": 16,
     "metadata": {},
     "output_type": "execute_result"
    }
   ],
   "source": [
    "X = diag[['area_mean', 'area_se', 'texture_mean', 'concavity_worst', 'concavity_mean']]\n",
    "X"
   ],
   "metadata": {
    "collapsed": false,
    "pycharm": {
     "name": "#%%\n"
    }
   }
  },
  {
   "cell_type": "code",
   "execution_count": 17,
   "outputs": [
    {
     "data": {
      "text/plain": "    diagnosis\n0           M\n1           M\n2           M\n3           M\n4           M\n..        ...\n564         M\n565         M\n566         M\n567         M\n568         B\n\n[569 rows x 1 columns]",
      "text/html": "<div>\n<style scoped>\n    .dataframe tbody tr th:only-of-type {\n        vertical-align: middle;\n    }\n\n    .dataframe tbody tr th {\n        vertical-align: top;\n    }\n\n    .dataframe thead th {\n        text-align: right;\n    }\n</style>\n<table border=\"1\" class=\"dataframe\">\n  <thead>\n    <tr style=\"text-align: right;\">\n      <th></th>\n      <th>diagnosis</th>\n    </tr>\n  </thead>\n  <tbody>\n    <tr>\n      <th>0</th>\n      <td>M</td>\n    </tr>\n    <tr>\n      <th>1</th>\n      <td>M</td>\n    </tr>\n    <tr>\n      <th>2</th>\n      <td>M</td>\n    </tr>\n    <tr>\n      <th>3</th>\n      <td>M</td>\n    </tr>\n    <tr>\n      <th>4</th>\n      <td>M</td>\n    </tr>\n    <tr>\n      <th>...</th>\n      <td>...</td>\n    </tr>\n    <tr>\n      <th>564</th>\n      <td>M</td>\n    </tr>\n    <tr>\n      <th>565</th>\n      <td>M</td>\n    </tr>\n    <tr>\n      <th>566</th>\n      <td>M</td>\n    </tr>\n    <tr>\n      <th>567</th>\n      <td>M</td>\n    </tr>\n    <tr>\n      <th>568</th>\n      <td>B</td>\n    </tr>\n  </tbody>\n</table>\n<p>569 rows × 1 columns</p>\n</div>"
     },
     "execution_count": 17,
     "metadata": {},
     "output_type": "execute_result"
    }
   ],
   "source": [
    "y = diag[['diagnosis']]\n",
    "y"
   ],
   "metadata": {
    "collapsed": false,
    "pycharm": {
     "name": "#%%\n"
    }
   }
  },
  {
   "cell_type": "code",
   "execution_count": 18,
   "outputs": [
    {
     "data": {
      "text/plain": "0      1\n1      1\n2      1\n3      1\n4      1\n      ..\n564    1\n565    1\n566    1\n567    1\n568   -1\nName: diagnosis, Length: 569, dtype: int64"
     },
     "execution_count": 18,
     "metadata": {},
     "output_type": "execute_result"
    }
   ],
   "source": [
    "y= diag['diagnosis']\n",
    "y = y.apply(lambda d: 1 if d == 'M' else -1)\n",
    "y"
   ],
   "metadata": {
    "collapsed": false,
    "pycharm": {
     "name": "#%%\n"
    }
   }
  },
  {
   "cell_type": "code",
   "execution_count": 21,
   "outputs": [
    {
     "name": "stderr",
     "output_type": "stream",
     "text": [
      "C:\\Users\\szymo\\AppData\\Local\\Programs\\Python\\Python310\\lib\\site-packages\\pandas\\core\\arraylike.py:397: RuntimeWarning: overflow encountered in square\n",
      "  result = getattr(ufunc, method)(*inputs, **kwargs)\n",
      "C:\\Users\\szymo\\AppData\\Local\\Temp\\ipykernel_172\\1055433301.py:32: RuntimeWarning: invalid value encountered in add\n",
      "  self.w += delta_w # dw = w* + w\n"
     ]
    },
    {
     "data": {
      "text/plain": "Text(0.5, 1.0, 'epochs(errors)')"
     },
     "execution_count": 21,
     "metadata": {},
     "output_type": "execute_result"
    },
    {
     "data": {
      "text/plain": "<Figure size 640x480 with 1 Axes>",
      "image/png": "[encoded data removed]"
     },
     "metadata": {},
     "output_type": "display_data"
    }
   ],
   "source": [
    "perceptron = Perceptron(eta=0.00001, epochs=100)\n",
    "perceptron.fit(X,y)\n",
    "plt.scatter(range(perceptron.epochs), perceptron.list_of_errors)\n",
    "plt.title(\"epochs(errors)\")\n",
    "#errors"
   ],
   "metadata": {
    "collapsed": false,
    "pycharm": {
     "name": "#%%\n"
    }
   }
  },
  {
   "cell_type": "code",
   "execution_count": 22,
   "outputs": [
    {
     "data": {
      "text/plain": "Text(0.5, 1.0, 'epochs(errors)')"
     },
     "execution_count": 22,
     "metadata": {},
     "output_type": "execute_result"
    },
    {
     "data": {
      "text/plain": "<Figure size 640x480 with 1 Axes>",
      "image/png": "[encoded data removed]"
     },
     "metadata": {},
     "output_type": "display_data"
    }
   ],
   "source": [
    "perceptron = Perceptron(eta=0.00000001 , epochs=100)\n",
    "perceptron.fit(X,y)\n",
    "plt.scatter(range(perceptron.epochs), perceptron.list_of_errors)\n",
    "plt.title(\"epochs(errors)\")\n",
    "# divergent graph"
   ],
   "metadata": {
    "collapsed": false,
    "pycharm": {
     "name": "#%%\n"
    }
   }
  },
  {
   "cell_type": "code",
   "execution_count": 27,
   "outputs": [
    {
     "data": {
      "text/plain": "Text(0.5, 1.0, 'epochs(errors)')"
     },
     "execution_count": 27,
     "metadata": {},
     "output_type": "execute_result"
    },
    {
     "data": {
      "text/plain": "<Figure size 640x480 with 1 Axes>",
      "image/png": "[encoded data removed]"
     },
     "metadata": {},
     "output_type": "display_data"
    }
   ],
   "source": [
    "perceptron = Perceptron(eta=0.000000001 , epochs=100)\n",
    "perceptron.fit(X,y)\n",
    "plt.scatter(range(perceptron.epochs), perceptron.list_of_errors)\n",
    "plt.title(\"epochs(errors)\")\n",
    "# convergent graph"
   ],
   "metadata": {
    "collapsed": false,
    "pycharm": {
     "name": "#%%\n"
    }
   }
  },
  {
   "cell_type": "code",
   "execution_count": 28,
   "outputs": [
    {
     "data": {
      "text/plain": "array([[ 0.9843749 ,  2.48757756, -2.07333501,  2.10952635,  2.65287398],\n       [ 1.90870825,  0.74240195, -0.35363241, -0.14674897, -0.02384586],\n       [ 1.55888363,  1.18133606,  0.45618695,  0.85497394,  1.36347845],\n       ...,\n       [ 0.57795264,  0.1806983 ,  2.0455738 ,  0.3267666 ,  0.04658753],\n       [ 1.73521799,  1.0095027 ,  2.33645719,  3.19760468,  3.296944  ],\n       [-1.34778924, -0.46615196,  1.22179204, -1.30583065, -1.11487284]])"
     },
     "execution_count": 28,
     "metadata": {},
     "output_type": "execute_result"
    }
   ],
   "source": [
    "from sklearn.preprocessing import StandardScaler\n",
    "scaler = StandardScaler() # data standarization - conversion of data into a standard format that computers can read and understand\n",
    "# mean = 0\n",
    "# standard deviation = 1\n",
    "# Standarization causes that we can rise up a little bit value eta\n",
    "scaler.fit(X)\n",
    "X_std = scaler.transform(X) # copy of data\n",
    "X_std"
   ],
   "metadata": {
    "collapsed": false,
    "pycharm": {
     "name": "#%%\n"
    }
   }
  },
  {
   "cell_type": "code",
   "execution_count": null,
   "outputs": [],
   "source": [],
   "metadata": {
    "collapsed": false,
    "pycharm": {
     "name": "#%%\n"
    }
   }
  },
  {
   "cell_type": "code",
   "execution_count": null,
   "outputs": [],
   "source": [],
   "metadata": {
    "collapsed": false,
    "pycharm": {
     "name": "#%%\n"
    }
   }
  }
 ],
 "metadata": {
  "kernelspec": {
   "display_name": "Python 3",
   "language": "python",
   "name": "python3"
  },
  "language_info": {
   "codemirror_mode": {
    "name": "ipython",
    "version": 2
   },
   "file_extension": ".py",
   "mimetype": "text/x-python",
   "name": "python",
   "nbconvert_exporter": "python",
   "pygments_lexer": "ipython2",
   "version": "2.7.6"
  }
 },
 "nbformat": 4,
 "nbformat_minor": 0
}