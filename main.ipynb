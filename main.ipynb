{
 "cells": [
  {
   "cell_type": "code",
   "execution_count": null,
   "metadata": {
    "collapsed": true,
    "pycharm": {
     "name": "#%%\n"
    }
   },
   "outputs": [],
   "source": [
    "# Data source:\n",
    "# https://www.kaggle.com/smeschke/four-shapes"
   ]
  },
  {
   "cell_type": "code",
   "execution_count": null,
   "outputs": [],
   "source": [
    "import os, cv2\n",
    "import matplotlib.pyplot as plt, numpy as np\n",
    "from random import randint\n",
    "from sklearn.model_selection import train_test_split\n",
    "from sklearn.preprocessing import StandardScaler\n",
    "from sklearn.linear_model import Perceptron\n",
    "print(\"Libs Loaded\")"
   ],
   "metadata": {
    "collapsed": false,
    "pycharm": {
     "name": "#%%\n"
    }
   }
  },
  {
   "cell_type": "code",
   "execution_count": null,
   "outputs": [],
   "source": [
    "PATH = r'C:\\Users\\szymo\\PycharmProjects\\shapeRecognition\\shapes' # dataset file path\n",
    "IMG_SIZE = 64 # every shape image is in resolution 64x64\n",
    "shapes = [\"circle\", \"square\", \"triangle\", \"star\"] # all tipes of shapes\n",
    "labels = [] # 0-circle, 1-square, 2-triangle, 3-star\n",
    "dataset = [] # description for single image"
   ],
   "metadata": {
    "collapsed": false,
    "pycharm": {
     "name": "#%%\n"
    }
   }
  },
  {
   "cell_type": "code",
   "execution_count": null,
   "outputs": [],
   "source": [
    "# From kernel: https://www.kaggle.com/smeschke/load-data\n",
    "for shape in shapes:\n",
    "    print(\"Getting data for: \", shape)\n",
    "    #iterate through each file in the folder\n",
    "    dirs = os.listdir(PATH + \"\\\\\" + shape)\n",
    "    for file in dirs:\n",
    "        #add the image to the list of images\n",
    "        final_path = PATH + \"\\\\\" + shape + \"\\\\\" + file\n",
    "        image = cv2.imread(final_path)\n",
    "        if image is None:\n",
    "            print('Wrong path: ', final_path)\n",
    "            break\n",
    "        image = cv2.resize(image, (IMG_SIZE, IMG_SIZE))\n",
    "        image = image.reshape(12288)\n",
    "        dataset.append(image)\n",
    "        labels.append(shapes.index(shape))\n",
    "print(\"Dataset loaded to model directory.\")"
   ],
   "metadata": {
    "collapsed": false,
    "pycharm": {
     "name": "#%%\n"
    }
   }
  },
  {
   "cell_type": "code",
   "execution_count": null,
   "outputs": [],
   "source": [
    "dataset"
   ],
   "metadata": {
    "collapsed": false,
    "pycharm": {
     "name": "#%%\n"
    }
   }
  },
  {
   "cell_type": "code",
   "execution_count": null,
   "outputs": [],
   "source": [
    "labels"
   ],
   "metadata": {
    "collapsed": false,
    "pycharm": {
     "name": "#%%\n"
    }
   }
  },
  {
   "cell_type": "code",
   "execution_count": null,
   "outputs": [],
   "source": [
    "# Printing random images with their indexes above\n",
    "index = np.random.randint(0, len(dataset) - 1, size = 10) # size of list, NO of elems\n",
    "print(index) # list\n",
    "plt.figure(figsize=(5,5))\n",
    "\n",
    "g = 0\n",
    "for i, j in enumerate(index, 1): # The enumerate() method adds a counter to an iterable and returns it (the enumerate object).\n",
    "    print(index[g])\n",
    "    img = dataset[j].reshape((64, 64, 3))\n",
    "    lab = shapes[labels[j]]\n",
    "    plt.subplot(4, 5, i) # subplots method provides a way to plot multiple plots on a single figure - nice format of displaying those shapes\n",
    "    plt.title(lab + index[g])\n",
    "    plt.axis('off')\n",
    "    plt.imshow(img)\n",
    "    g += 1"
   ],
   "metadata": {
    "collapsed": false,
    "pycharm": {
     "name": "#%%\n"
    }
   }
  },
  {
   "cell_type": "code",
   "execution_count": null,
   "outputs": [],
   "source": [
    "X = np.array(dataset)\n",
    "X"
   ],
   "metadata": {
    "collapsed": false,
    "pycharm": {
     "name": "#%%\n"
    }
   }
  },
  {
   "cell_type": "code",
   "execution_count": null,
   "outputs": [],
   "source": [
    "X.shape"
   ],
   "metadata": {
    "collapsed": false,
    "pycharm": {
     "name": "#%%\n"
    }
   }
  },
  {
   "cell_type": "code",
   "execution_count": null,
   "outputs": [],
   "source": [
    "labels"
   ],
   "metadata": {
    "collapsed": false,
    "pycharm": {
     "name": "#%%\n"
    }
   }
  },
  {
   "cell_type": "code",
   "execution_count": null,
   "outputs": [],
   "source": [
    "y = np.array(labels)\n",
    "y"
   ],
   "metadata": {
    "collapsed": false,
    "pycharm": {
     "name": "#%%\n"
    }
   }
  },
  {
   "cell_type": "code",
   "execution_count": null,
   "outputs": [],
   "source": [
    "y.shape"
   ],
   "metadata": {
    "collapsed": false,
    "pycharm": {
     "name": "#%%\n"
    }
   }
  },
  {
   "cell_type": "code",
   "execution_count": null,
   "outputs": [],
   "source": [
    "# scaler = StandardScaler()\n",
    "# scaler.fit(X)"
   ],
   "metadata": {
    "collapsed": false,
    "pycharm": {
     "name": "#%%\n"
    }
   }
  },
  {
   "cell_type": "code",
   "execution_count": null,
   "outputs": [],
   "source": [
    "# X_std = scaler.transform(X)\n",
    "# X_std"
   ],
   "metadata": {
    "collapsed": false,
    "pycharm": {
     "name": "#%%\n"
    }
   }
  },
  {
   "cell_type": "code",
   "execution_count": null,
   "outputs": [],
   "source": [
    "X_train, X_test, y_train, y_test = train_test_split(X, y, test_size=0.3)"
   ],
   "metadata": {
    "collapsed": false,
    "pycharm": {
     "name": "#%%\n"
    }
   }
  },
  {
   "cell_type": "code",
   "execution_count": null,
   "outputs": [],
   "source": [
    "perceptron = Perceptron(eta0=0.01, max_iter=100, shuffle=True)\n",
    "perceptron.fit(X_train, y_train)\n",
    "print(\"Training done\")"
   ],
   "metadata": {
    "collapsed": false,
    "pycharm": {
     "name": "#%%\n"
    }
   }
  },
  {
   "cell_type": "code",
   "execution_count": null,
   "outputs": [],
   "source": [
    "# good = y_test[y_test == y_pred].count()\n",
    "# total = y_test.count()\n",
    "# print('result: {}'.format(100*good/total))\n",
    "perceptron.score(X_test, y_test)"
   ],
   "metadata": {
    "collapsed": false,
    "pycharm": {
     "name": "#%%\n"
    }
   }
  },
  {
   "cell_type": "code",
   "execution_count": null,
   "outputs": [],
   "source": [
    "y_pred = perceptron.predict(X_test)\n",
    "y_pred"
   ],
   "metadata": {
    "collapsed": false,
    "pycharm": {
     "name": "#%%\n"
    }
   }
  },
  {
   "cell_type": "code",
   "execution_count": null,
   "outputs": [],
   "source": [
    "bad_results = [(a,b,c) for (a,b,c) in zip(X_test[y_test != y_pred], y_test[y_test != y_pred], y_pred[y_test != y_pred] )]\n",
    "len(bad_results) # wrongly matched shape to name"
   ],
   "metadata": {
    "collapsed": false,
    "pycharm": {
     "name": "#%%\n"
    }
   }
  },
  {
   "cell_type": "code",
   "execution_count": null,
   "outputs": [],
   "source": [
    "i = 1 # printing above step\n",
    "for x_test, y_test, y_pred in bad_results:\n",
    "    img = x_test.reshape((64, 64, 3))\n",
    "    label_test = shapes[y_test]\n",
    "    label_pred = shapes[y_pred]\n",
    "    plt.figure(figsize=(5, 5))\n",
    "    #plt.subplot(len(bad_results), 1, i)\n",
    "    plt.title('wrong: ' + label_pred + ' - ' + 'answer: ' + label_test)\n",
    "    plt.axis('off')\n",
    "    plt.imshow(img)\n",
    "    i += 1"
   ],
   "metadata": {
    "collapsed": false,
    "pycharm": {
     "name": "#%%\n"
    }
   }
  },
  {
   "cell_type": "code",
   "execution_count": null,
   "outputs": [],
   "source": [
    "# Code to get random correct answer\n",
    "id = randint(0, y_pred.size)\n",
    "plt.title(shapes[y_pred[id]])\n",
    "plt.axis(\"off\")\n",
    "plt.imshow(X_test[id].reshape((64, 64, 3)))"
   ],
   "metadata": {
    "collapsed": false,
    "pycharm": {
     "name": "#%%\n"
    }
   }
  },
  {
   "cell_type": "code",
   "execution_count": null,
   "outputs": [],
   "source": [
    "# Simple 2D shape recognition model done"
   ],
   "metadata": {
    "collapsed": false,
    "pycharm": {
     "name": "#%%\n"
    }
   }
  }
 ],
 "metadata": {
  "kernelspec": {
   "display_name": "Python 3",
   "language": "python",
   "name": "python3"
  },
  "language_info": {
   "codemirror_mode": {
    "name": "ipython",
    "version": 2
   },
   "file_extension": ".py",
   "mimetype": "text/x-python",
   "name": "python",
   "nbconvert_exporter": "python",
   "pygments_lexer": "ipython2",
   "version": "2.7.6"
  }
 },
 "nbformat": 4,
 "nbformat_minor": 0
}