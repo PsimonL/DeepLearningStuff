{
 "cells": [
  {
   "cell_type": "code",
   "execution_count": null,
   "metadata": {
    "collapsed": true,
    "pycharm": {
     "name": "#%%\n"
    }
   },
   "outputs": [],
   "source": [
    "import numpy as np\n",
    "import matplotlib.pyplot as plt\n",
    "import pandas as pd\n",
    "from sklearn.model_selection import train_test_split\n",
    "print(\"Libs loaded succesfully \")"
   ]
  },
  {
   "cell_type": "code",
   "execution_count": null,
   "outputs": [],
   "source": [
    "# Rosenblat to Adaline model upgrade\n",
    "class Perceptron:\n",
    "    def __init__(self, eta, epochs, is_verbose = False): #(learning_speed, number of epochs, feedback_from_neuron)\n",
    "        self.eta = eta\n",
    "        self.epochs = epochs\n",
    "        self.is_verbose = is_verbose\n",
    "        self.list_of_errors = []\n",
    "\n",
    "    def get_activation(self, x):\n",
    "        activation = np.dot(x, self.w)\n",
    "        return activation\n",
    "\n",
    "    def predict(self, x): # value prediction\n",
    "        ones = np.ones((x.shape[0],1))\n",
    "        x_1 = np.append(x.copy(), ones, axis=1)\n",
    "        #y_pred = np.where(activation >0, 1, -1) ROSENBLAT\n",
    "        #return y_pred\n",
    "        return np.where(self.get_activation(x_1) > 0, 1, -1)\n",
    "\n",
    "    # mathematical matrix operations\n",
    "    def fit(self, X, y): # neuron learning, y - target value/etiquette/label, X - dataset of traits (columns) and observations (rows)\n",
    "        self.list_of_errors = []\n",
    "        ones = np.ones((X.shape[0], 1)) # Z = sum(W * X)\n",
    "        X_1 = np.append(X.copy(), ones, axis=1)\n",
    "\n",
    "        self.w = np.random.rand(X_1.shape[1]) # 1st step to randomize weights\n",
    "\n",
    "        for num in range(self.epochs): # epochs times\n",
    "            error = 0\n",
    "            activation = self.get_activation(X_1) # linear stimulation of neuron, tarining set\n",
    "            delta_w = self.eta * np.dot((y - activation), X_1) #dw = eta * (ytarget - ypred) * x getting vector, correcting weights vector\n",
    "            self.w += delta_w # dw = w* + w\n",
    "\n",
    "            error = np.square(y - activation).sum()/2.0\n",
    "            self.list_of_errors.append(error)\n",
    "            if(self.is_verbose):\n",
    "                print(\"Epoch: {}, weights: {}, error {}\".format(\n",
    "                        num, self.w, error))\n",
    "print(\"Adaptive Linear Neuron - Adaline loaded\")\n",
    "# https://sebastianraschka.com/faq/docs/diff-perceptron-adaline-neuralnet.html"
   ],
   "metadata": {
    "collapsed": false,
    "pycharm": {
     "name": "#%%\n"
    }
   }
  },
  {
   "cell_type": "code",
   "execution_count": null,
   "outputs": [],
   "source": [
    "# Data source: https://archive.ics.uci.edu/ml/datasets/Breast+Cancer+Wisconsin+%28Diagnostic%29\n",
    "diagnoses = pd.read_csv('breast_cancer.csv')\n",
    "diagnoses"
   ],
   "metadata": {
    "collapsed": false,
    "pycharm": {
     "name": "#%%\n"
    }
   }
  },
  {
   "cell_type": "code",
   "execution_count": null,
   "outputs": [],
   "source": [
    "X = diagnoses[['area_mean', 'area_se', 'texture_mean', 'concavity_worst', 'concavity_mean']]\n",
    "X"
   ],
   "metadata": {
    "collapsed": false,
    "pycharm": {
     "name": "#%%\n"
    }
   }
  },
  {
   "cell_type": "code",
   "execution_count": null,
   "outputs": [],
   "source": [
    "y = diagnoses[['diagnosis']]\n",
    "y"
   ],
   "metadata": {
    "collapsed": false,
    "pycharm": {
     "name": "#%%\n"
    }
   }
  },
  {
   "cell_type": "code",
   "execution_count": null,
   "outputs": [],
   "source": [
    "y = diagnoses['diagnosis']\n",
    "y_nums = y.apply(lambda d: 1 if d == 'M' else -1)\n",
    "y_nums"
   ],
   "metadata": {
    "collapsed": false,
    "pycharm": {
     "name": "#%%\n"
    }
   }
  },
  {
   "cell_type": "code",
   "execution_count": null,
   "outputs": [],
   "source": [
    "# perceptron = Perceptron(eta=0.00001, epochs=100)\n",
    "# perceptron.fit(X,y)\n",
    "# plt.scatter(range(perceptron.epochs), perceptron.list_of_errors)\n",
    "# plt.title(\"epochs(errors)\")\n",
    "#errors"
   ],
   "metadata": {
    "collapsed": false,
    "pycharm": {
     "name": "#%%\n"
    }
   }
  },
  {
   "cell_type": "code",
   "execution_count": null,
   "outputs": [],
   "source": [
    "perceptron = Perceptron(eta=0.00000001 , epochs=100)\n",
    "perceptron.fit(X,y_nums)\n",
    "plt.scatter(range(perceptron.epochs), perceptron.list_of_errors)\n",
    "plt.title(\"epochs(errors)\")\n",
    "# divergent graph"
   ],
   "metadata": {
    "collapsed": false,
    "pycharm": {
     "name": "#%%\n"
    }
   }
  },
  {
   "cell_type": "code",
   "execution_count": null,
   "outputs": [],
   "source": [
    "X"
   ],
   "metadata": {
    "collapsed": false,
    "pycharm": {
     "name": "#%%\n"
    }
   }
  },
  {
   "cell_type": "code",
   "execution_count": null,
   "outputs": [],
   "source": [
    "y_nums"
   ],
   "metadata": {
    "collapsed": false,
    "pycharm": {
     "name": "#%%\n"
    }
   }
  },
  {
   "cell_type": "code",
   "execution_count": null,
   "outputs": [],
   "source": [
    "perceptron = Perceptron(eta=0.000000001 , epochs=100)\n",
    "perceptron.fit(X,y_nums)\n",
    "plt.scatter(range(perceptron.epochs), perceptron.list_of_errors)\n",
    "plt.title(\"epochs(errors)\")\n",
    "# convergent graph"
   ],
   "metadata": {
    "collapsed": false,
    "pycharm": {
     "name": "#%%\n"
    }
   }
  },
  {
   "cell_type": "code",
   "execution_count": null,
   "outputs": [],
   "source": [
    "from sklearn.preprocessing import StandardScaler\n",
    "scaler = StandardScaler() # data standarization - conversion of data into a standard format that computers can read and understand\n",
    "# mean = 0\n",
    "# standard deviation = 1\n",
    "# Standarization causes that we can rise up a little bit value eta\n",
    "scaler.fit(X)\n",
    "X_std = scaler.transform(X) # copy of data\n",
    "X_std"
   ],
   "metadata": {
    "collapsed": false,
    "pycharm": {
     "name": "#%%\n"
    }
   }
  },
  {
   "cell_type": "code",
   "execution_count": null,
   "outputs": [],
   "source": [
    "perceptron = Perceptron(eta=0.01 , epochs=100)\n",
    "perceptron.fit(X,y_nums)\n",
    "plt.scatter(range(perceptron.epochs), perceptron.list_of_errors)\n",
    "plt.title(\"epochs(errors)\")"
   ],
   "metadata": {
    "collapsed": false,
    "pycharm": {
     "name": "#%%\n"
    }
   }
  },
  {
   "cell_type": "code",
   "execution_count": null,
   "outputs": [],
   "source": [
    "perceptron = Perceptron(eta=0.001 , epochs=100)\n",
    "perceptron.fit(X,y_nums)\n",
    "plt.scatter(range(perceptron.epochs), perceptron.list_of_errors)\n",
    "plt.title(\"epochs(errors)\")"
   ],
   "metadata": {
    "collapsed": false,
    "pycharm": {
     "name": "#%%\n"
    }
   }
  },
  {
   "cell_type": "code",
   "execution_count": null,
   "outputs": [],
   "source": [
    "perceptron = Perceptron(eta=0.000000001 , epochs=100)\n",
    "perceptron.fit(X,y_nums)\n",
    "plt.scatter(range(perceptron.epochs), perceptron.list_of_errors)\n",
    "plt.title(\"epochs(errors)\")"
   ],
   "metadata": {
    "collapsed": false,
    "pycharm": {
     "name": "#%%\n"
    }
   }
  },
  {
   "cell_type": "code",
   "execution_count": null,
   "outputs": [],
   "source": [
    "from sklearn.model_selection import train_test_split\n",
    "X_train, X_test, y_train, y_test = train_test_split(X_std, y_nums, test_size=0.2)"
   ],
   "metadata": {
    "collapsed": false,
    "pycharm": {
     "name": "#%%\n"
    }
   }
  },
  {
   "cell_type": "code",
   "execution_count": null,
   "outputs": [],
   "source": [
    "perceptron = Perceptron(eta=0.001, epochs=100)\n",
    "perceptron.fit(X_train, y_train)\n",
    "plt.scatter(range(perceptron.epochs), perceptron.list_of_errors)"
   ],
   "metadata": {
    "collapsed": false,
    "pycharm": {
     "name": "#%%\n"
    }
   }
  },
  {
   "cell_type": "code",
   "execution_count": null,
   "outputs": [],
   "source": [
    "y_pred = perceptron.predict(X_test)\n",
    "y_pred"
   ],
   "metadata": {
    "collapsed": false,
    "pycharm": {
     "name": "#%%\n"
    }
   }
  },
  {
   "cell_type": "code",
   "execution_count": null,
   "outputs": [],
   "source": [
    "good = y_test[y_test == y_pred].count()\n",
    "total = y_test.count()\n",
    "print('result: {}'.format(100*good/total))\n",
    "# 92% of accurancy"
   ],
   "metadata": {
    "collapsed": false,
    "pycharm": {
     "name": "#%%\n"
    }
   }
  },
  {
   "cell_type": "code",
   "execution_count": null,
   "outputs": [],
   "source": [
    "X_train"
   ],
   "metadata": {
    "collapsed": false,
    "pycharm": {
     "name": "#%%\n"
    }
   }
  },
  {
   "cell_type": "code",
   "execution_count": null,
   "outputs": [],
   "source": [],
   "metadata": {
    "collapsed": false,
    "pycharm": {
     "name": "#%%\n"
    }
   }
  }
 ],
 "metadata": {
  "kernelspec": {
   "display_name": "Python 3",
   "language": "python",
   "name": "python3"
  },
  "language_info": {
   "codemirror_mode": {
    "name": "ipython",
    "version": 2
   },
   "file_extension": ".py",
   "mimetype": "text/x-python",
   "name": "python",
   "nbconvert_exporter": "python",
   "pygments_lexer": "ipython2",
   "version": "2.7.6"
  }
 },
 "nbformat": 4,
 "nbformat_minor": 0
}